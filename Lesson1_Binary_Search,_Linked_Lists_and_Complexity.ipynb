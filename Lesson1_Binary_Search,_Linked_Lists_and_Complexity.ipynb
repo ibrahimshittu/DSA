{
  "nbformat": 4,
  "nbformat_minor": 0,
  "metadata": {
    "colab": {
      "provenance": [],
      "collapsed_sections": []
    },
    "kernelspec": {
      "name": "python3",
      "display_name": "Python 3"
    },
    "language_info": {
      "name": "python"
    }
  },
  "cells": [
    {
      "cell_type": "markdown",
      "source": [
        "## Problem \n",
        "\n",
        "This course takes a coding-focused approach towards learning. In each notebook, we'll focus on solving one problem, and learn the techniques, algorithms, and data structures to devise an *efficient* solution. We will then generalize the technique and apply it to other problems.\n",
        "\n",
        "\n",
        "\n",
        "In this notebook, we focus on solving the following problem:\n",
        "\n",
        "> **QUESTION 1:** Alice has some cards with numbers written on them. She arranges the cards in decreasing order, and lays them out face down in a sequence on a table. She challenges Bob to pick out the card containing a given number by turning over as few cards as possible. Write a function to help Bob locate the card.\n",
        "\n",
        "<img src=\"https://i.imgur.com/mazym6s.png\" width=\"480\">\n",
        "\n",
        "This may seem like a simple problem, especially if you're familiar with the concept of _binary search_, but the strategy and technique we learning here will be widely applicable, and we'll soon use it to solve harder problems."
      ],
      "metadata": {
        "id": "4pL8OsW3S6jH"
      }
    },
    {
      "cell_type": "code",
      "source": [
        "# We need to get a particular card without accessing so many cards from the list\n",
        "\n",
        "# define an example list of cards arranged in descending order \n",
        "cards = [13, 12, 11, 10, 9, 8, 7, 6]"
      ],
      "metadata": {
        "id": "k-ld8oG_TACH"
      },
      "execution_count": 19,
      "outputs": []
    },
    {
      "cell_type": "code",
      "source": [
        "# define our query function\n",
        "def locate_cards(cards, query): \n",
        "  pass"
      ],
      "metadata": {
        "id": "IhJCF3MrTix0"
      },
      "execution_count": 20,
      "outputs": []
    },
    {
      "cell_type": "markdown",
      "source": [
        "Our function should be able to handle any set of valid inputs we pass into it. Here's a list of some possible variations we might encounter:\n",
        "\n",
        "1. The number `query` occurs somewhere in the middle of the list `cards`.\n",
        "2. `query` is the first element in `cards`.\n",
        "3. `query` is the last element in `cards`.\n",
        "4. The list `cards` contains just one element, which is `query`.\n",
        "5. The list `cards` does not contain number `query`.\n",
        "6. The list `cards` is empty.\n",
        "7. The list `cards` contains repeating numbers.\n",
        "8. The number `query` occurs at more than one position in `cards`.\n",
        "9. (can you think of any more variations?)\n",
        "\n",
        "> **Edge Cases**: It's likely that you didn't think of all of the above cases when you read the problem for the first time. Some of these (like the empty array or `query` not occurring in `cards`) are called *edge cases*, as they represent rare or extreme examples. \n",
        "\n",
        "While edge cases may not occur frequently, your programs should be able to handle all edge cases, otherwise they may fail in unexpected ways. Let's create some more test cases for the variations listed above. We'll store all our test cases in an list for easier testing."
      ],
      "metadata": {
        "id": "lcUxlTV-VgxS"
      }
    },
    {
      "cell_type": "code",
      "source": [
        "# writing tests for possible variations we might encounter while solving our problem\n",
        "tests = []\n",
        "\n",
        "# query occurs in the middle\n",
        "tests.append({\n",
        "    'input': {\n",
        "        'cards': [13, 11, 10, 7, 4, 3, 1, 0],\n",
        "        'query': 1\n",
        "    },\n",
        "    'output': 6\n",
        "})\n",
        "\n",
        "# query is the first element\n",
        "tests.append({\n",
        "    'input': {\n",
        "        'cards': [4, 2, 1, -1],\n",
        "        'query': 4\n",
        "    },\n",
        "    'output': 0\n",
        "})\n",
        "\n",
        "# query is the last element\n",
        "tests.append({\n",
        "    'input': {\n",
        "        'cards': [3, -1, -9, -127],\n",
        "        'query': -127\n",
        "    },\n",
        "    'output': 3\n",
        "})\n",
        "\n",
        "# cards contains just one element, query\n",
        "tests.append({\n",
        "    'input': {\n",
        "        'cards': [6],\n",
        "        'query': 6\n",
        "    },\n",
        "    'output': 0 \n",
        "})"
      ],
      "metadata": {
        "id": "e_KzkV2gVf3v"
      },
      "execution_count": 21,
      "outputs": []
    },
    {
      "cell_type": "markdown",
      "source": [
        "The problem statement does not specify what to do if the list `cards` does not contain the number `query`. \n",
        "\n",
        "1. Read the problem statement again, carefully.\n",
        "2. Look through the examples provided with the problem.\n",
        "3. Ask the interviewer/platform for a clarification.\n",
        "4. Make a reasonable assumption, state it and move forward.\n",
        "\n",
        "We will assume that our function will return `-1` in case `cards` does not contain `query`."
      ],
      "metadata": {
        "id": "SfjyPJ-OW7wY"
      }
    },
    {
      "cell_type": "code",
      "source": [
        "# cards does not contain query \n",
        "tests.append({\n",
        "    'input': {\n",
        "        'cards': [9, 7, 5, 2, -9],\n",
        "        'query': 4\n",
        "    },\n",
        "    'output': -1\n",
        "})\n",
        "\n",
        "# cards is empty\n",
        "tests.append({\n",
        "    'input': {\n",
        "        'cards': [],\n",
        "        'query': 7\n",
        "    },\n",
        "    'output': -1\n",
        "})\n",
        "\n",
        "# numbers can repeat in cards\n",
        "tests.append({\n",
        "    'input': {\n",
        "        'cards': [8, 8, 6, 6, 6, 6, 6, 3, 2, 2, 2, 0, 0, 0],\n",
        "        'query': 3\n",
        "    },\n",
        "    'output': 7\n",
        "})\n",
        "\n",
        "# query occurs multiple times\n",
        "tests.append({\n",
        "    'input': {\n",
        "        'cards': [8, 8, 6, 6, 6, 6, 6, 6, 3, 2, 2, 2, 0, 0, 0],\n",
        "        'query': 6\n",
        "    },\n",
        "    'output': 2\n",
        "})\n"
      ],
      "metadata": {
        "id": "IbFW8YTdW6CP"
      },
      "execution_count": 22,
      "outputs": []
    },
    {
      "cell_type": "code",
      "source": [
        "print(tests)"
      ],
      "metadata": {
        "colab": {
          "base_uri": "https://localhost:8080/"
        },
        "id": "T8NMa_k9XJlQ",
        "outputId": "bf005248-79d7-47ad-f767-4b4a2f93863a"
      },
      "execution_count": 23,
      "outputs": [
        {
          "output_type": "stream",
          "name": "stdout",
          "text": [
            "[{'input': {'cards': [13, 11, 10, 7, 4, 3, 1, 0], 'query': 1}, 'output': 6}, {'input': {'cards': [4, 2, 1, -1], 'query': 4}, 'output': 0}, {'input': {'cards': [3, -1, -9, -127], 'query': -127}, 'output': 3}, {'input': {'cards': [6], 'query': 6}, 'output': 0}, {'input': {'cards': [9, 7, 5, 2, -9], 'query': 4}, 'output': -1}, {'input': {'cards': [], 'query': 7}, 'output': -1}, {'input': {'cards': [8, 8, 6, 6, 6, 6, 6, 3, 2, 2, 2, 0, 0, 0], 'query': 3}, 'output': 7}, {'input': {'cards': [8, 8, 6, 6, 6, 6, 6, 6, 3, 2, 2, 2, 0, 0, 0], 'query': 6}, 'output': 2}]\n"
          ]
        }
      ]
    },
    {
      "cell_type": "markdown",
      "source": [
        "### 3. Come up with a correct solution for the problem. State it in plain English.\n",
        "\n",
        "Our first goal should always be to come up with a _correct_ solution to the problem, which may necessarily be the most _efficient_ solution. The simplest or most obvious solution to a problem, which generally involves checking all possible answers is called the _brute force_ solution.\n",
        "\n",
        "In this problem, coming up with a correct solution is quite easy: Bob can simply turn over cards in order one by one, till he find a card with the given number on it. Here's how we might implement it:\n",
        "\n",
        "1. Create a variable `position` with the value 0.\n",
        "3. Check whether the number at index `position` in `card` equals `query`.\n",
        "4. If it does, `position` is the answer and can be returned from the function\n",
        "5. If not, increment the value of `position` by 1, and repeat steps 2 to 5 till we reach the last position.\n",
        "6. If the number was not found, return `-1`.\n",
        "\n",
        "> **Linear Search Algorithm**: Congratulations, we've just written our first _algorithm_! An algorithm is simply a list of statements which can be converted into code and executed by a computer on different sets of inputs. This particular algorithm is called linear search, since it involves searching through a list in a linear fashion i.e. element after element.\n",
        "\n",
        "\n",
        "**Tip:** Always try to express (speak or write) the algorithm in your own words before you start coding. It can be as brief or detailed as you require it to be. Writing is a great tool for thinking clearly. It's likely that you will find some parts of the solution difficult to express, which suggests that you are probably unable to think about it clearly. The more clearly you are able to express your thoughts, the easier it will be for you to turn into code."
      ],
      "metadata": {
        "id": "4DOTK_dYaW-d"
      }
    },
    {
      "cell_type": "code",
      "source": [
        "# define our first solution using linear search algorithm \n",
        "def locate_cards_solution_one(cards, query): \n",
        "\n",
        "  # initialize first position\n",
        "  position = 0\n",
        "\n",
        "  while position < len(cards): \n",
        "\n",
        "    # check if card at position is same as query\n",
        "    if cards[position] == query: \n",
        "      return position\n",
        "\n",
        "    # increment the position\n",
        "    position += 1\n",
        "\n",
        "  return -1 \n",
        "\n"
      ],
      "metadata": {
        "id": "i8Ub-BARaJuE"
      },
      "execution_count": 24,
      "outputs": []
    },
    {
      "cell_type": "code",
      "source": [
        "#test our solution using the jovian library\n",
        "\n",
        "# !pip install jovian --upgrade --quiet\n",
        "# from jovian.pythondsa import evaluate_test_cases\n",
        "\n",
        "# evaluate_test_cases(locate_cards_solution_one, tests)\n",
        "\n",
        "# OR\n",
        "\n",
        "\n",
        "# for test in tests:\n",
        "#   print(locate_cards_solution_one(**test['input']) == test['output'])"
      ],
      "metadata": {
        "id": "SrO7QbD_b0PH"
      },
      "execution_count": null,
      "outputs": []
    },
    {
      "cell_type": "markdown",
      "source": [
        "### 5. Analyze the algorithm's complexity and identify inefficiencies, if any.\n",
        "\n",
        "Recall this statement from  original question: _\"Alice challenges Bob to pick out the card containing a given number by **turning over as few cards as possible**.\"_ We restated this requirement as: _\"Minimize the number of times we access elements from the list `cards`\"_\n",
        "\n",
        "<img src=\"https://i.imgur.com/mazym6s.png\" width=\"480\">\n",
        "\n",
        "Before we can minimize the number, we need a way to measure it. Since we access a list element once in every iteration, for a list of size `N` we access the elements from the list up to `N` times. Thus, Bob may need to overturn up to `N` cards in the worst case, to find the required card. \n",
        "\n",
        "Suppose he is only allowed to overturn 1 card per minute, it may take him 30 minutes to find the required card if 30 cards are laid out on the table. Is this the best he can do? Is a way for Bob to arrive at the answer by turning over just 5 cards, instead of 30?\n",
        "\n",
        "The field of study concerned with finding the amount of time, space or other resources required to complete the execution of computer programs is called _the analysis of algorithms_. And the process of figuring out the best algorithm to solve a given problem is called _algorithm design and optimization_.\n",
        "\n",
        "\n",
        "### Complexity and Big O Notation\n",
        "\n",
        "> **Complexity** of an algorithm is a measure of the amount of time and/or space required by an algorithm for an input of a given size e.g. `N`. Unless otherwise stated, the term _complexity_ always refers to the worst-case complexity (i.e. the highest possible time/space taken by the program/algorithm to process an input).\n",
        "\n",
        "In the case of linear search:\n",
        "\n",
        "1. The _time complexity_ of the algorithm is `cN` for some fixed constant `c` that depends on the number of operations we perform in each iteration and the time taken to execute a statement. Time complexity is sometimes also called the _running time_ of the algorithm.\n",
        "\n",
        "2. The _space complexity_ is some constant `c'` (independent of `N`), since we just need a single variable `position` to iterate through the array, and it occupies a constant space in the computer's memory (RAM).\n",
        "\n",
        "\n",
        "> **Big O Notation**: Worst-case complexity is often expressed using the Big O notation. In the Big O, we drop fixed constants and lower powers of variables to capture the trend of relationship between the size of the input and the complexity of the algorithm i.e. if the complexity of the algorithm is `cN^3 + dN^2 + eN + f`, in the Big O notation it is expressed as **O(N^3)**\n",
        "\n",
        "Thus, the time complexity of linear search is **O(N)** and its space complexity is **O(1)**.\n",
        "\n"
      ],
      "metadata": {
        "id": "-F_a3SopK-N2"
      }
    },
    {
      "cell_type": "code",
      "source": [],
      "metadata": {
        "id": "nv5OlogGLFLb"
      },
      "execution_count": null,
      "outputs": []
    }
  ]
}